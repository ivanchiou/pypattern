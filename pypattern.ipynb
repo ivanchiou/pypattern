{
 "cells": [
  {
   "cell_type": "code",
   "execution_count": null,
   "id": "dental-plaza",
   "metadata": {},
   "outputs": [],
   "source": [
    "def pypattern(n):\n",
    "    stars = []\n",
    "    try:\n",
    "        if(type(n) is not int):\n",
    "            raise ValueError('the n is not integer')\n",
    "    except ValueError as err:\n",
    "        print(err)\n",
    "        return\n",
    "    i = 0\n",
    "    while i < n:\n",
    "        for j in range(n*2):\n",
    "            if j <= n and j >= (n - i):\n",
    "                print(\"* \", end=\"\")\n",
    "                stars.append([i, j])\n",
    "            else:\n",
    "                print(end=\" \")\n",
    "        print(\"\\r\")\n",
    "        i += 1\n",
    "    for i in range(n-2, -1, -1):\n",
    "        for j in range(n*2):\n",
    "            if j <= n and j >= (n - i):\n",
    "                print(\"* \", end=\"\")\n",
    "            else:\n",
    "                print(end=\" \")\n",
    "        print(\"\\r\")\n",
    "pypattern(5)"
   ]
  }
 ],
 "metadata": {
  "kernelspec": {
   "display_name": "Python 3",
   "language": "python",
   "name": "python3"
  },
  "language_info": {
   "codemirror_mode": {
    "name": "ipython",
    "version": 3
   },
   "file_extension": ".py",
   "mimetype": "text/x-python",
   "name": "python",
   "nbconvert_exporter": "python",
   "pygments_lexer": "ipython3",
   "version": "3.6.13"
  }
 },
 "nbformat": 4,
 "nbformat_minor": 5
}
